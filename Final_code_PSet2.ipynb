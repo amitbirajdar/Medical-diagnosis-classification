{
  "nbformat": 4,
  "nbformat_minor": 0,
  "metadata": {
    "colab": {
      "name": "Untitled0.ipynb",
      "provenance": [],
      "collapsed_sections": []
    },
    "kernelspec": {
      "display_name": "Python 3",
      "name": "python3"
    }
  },
  "cells": [
    {
      "cell_type": "code",
      "metadata": {
        "id": "wpxbJ-Q3KjSr"
      },
      "source": [
        "# importing packages\r\n",
        "\r\n",
        "import pandas as pd\r\n",
        "import numpy as np\r\n",
        "import seaborn as sns\r\n",
        "import matplotlib.pyplot as plt"
      ],
      "execution_count": 722,
      "outputs": []
    },
    {
      "cell_type": "code",
      "metadata": {
        "id": "DnTDQ0hoLl8L"
      },
      "source": [
        "#importing the dataset\r\n",
        "\r\n",
        "df = pd.read_csv('/content/drive/MyDrive/Problem Set 2/ps2_available_dataset.csv')"
      ],
      "execution_count": 723,
      "outputs": []
    },
    {
      "cell_type": "code",
      "metadata": {
        "id": "QqNIEb53Lz0P",
        "colab": {
          "base_uri": "https://localhost:8080/",
          "height": 195
        },
        "outputId": "a54e3d8e-426e-4f78-cf9c-3fdeca4d3eb2"
      },
      "source": [
        "df.head()"
      ],
      "execution_count": 724,
      "outputs": [
        {
          "output_type": "execute_result",
          "data": {
            "text/html": [
              "<div>\n",
              "<style scoped>\n",
              "    .dataframe tbody tr th:only-of-type {\n",
              "        vertical-align: middle;\n",
              "    }\n",
              "\n",
              "    .dataframe tbody tr th {\n",
              "        vertical-align: top;\n",
              "    }\n",
              "\n",
              "    .dataframe thead th {\n",
              "        text-align: right;\n",
              "    }\n",
              "</style>\n",
              "<table border=\"1\" class=\"dataframe\">\n",
              "  <thead>\n",
              "    <tr style=\"text-align: right;\">\n",
              "      <th></th>\n",
              "      <th>treatment</th>\n",
              "      <th>age</th>\n",
              "      <th>blood_pressure</th>\n",
              "      <th>gender</th>\n",
              "      <th>blood_test</th>\n",
              "      <th>family_history</th>\n",
              "      <th>MeasureA</th>\n",
              "      <th>TestB</th>\n",
              "      <th>GeneA</th>\n",
              "      <th>GeneB</th>\n",
              "      <th>GeneC</th>\n",
              "    </tr>\n",
              "  </thead>\n",
              "  <tbody>\n",
              "    <tr>\n",
              "      <th>0</th>\n",
              "      <td>1</td>\n",
              "      <td>74</td>\n",
              "      <td>94.113373</td>\n",
              "      <td>non-female</td>\n",
              "      <td>negative</td>\n",
              "      <td>False</td>\n",
              "      <td>-11.035690</td>\n",
              "      <td>-0.336843</td>\n",
              "      <td>double</td>\n",
              "      <td>1</td>\n",
              "      <td>0</td>\n",
              "    </tr>\n",
              "    <tr>\n",
              "      <th>1</th>\n",
              "      <td>1</td>\n",
              "      <td>56</td>\n",
              "      <td>83.337745</td>\n",
              "      <td>non-female</td>\n",
              "      <td>negative</td>\n",
              "      <td>False</td>\n",
              "      <td>-3.982345</td>\n",
              "      <td>-0.018734</td>\n",
              "      <td>none</td>\n",
              "      <td>1</td>\n",
              "      <td>1</td>\n",
              "    </tr>\n",
              "    <tr>\n",
              "      <th>2</th>\n",
              "      <td>0</td>\n",
              "      <td>37</td>\n",
              "      <td>81.759240</td>\n",
              "      <td>female</td>\n",
              "      <td>negative</td>\n",
              "      <td>False</td>\n",
              "      <td>6.205701</td>\n",
              "      <td>0.147933</td>\n",
              "      <td>double</td>\n",
              "      <td>1</td>\n",
              "      <td>1</td>\n",
              "    </tr>\n",
              "    <tr>\n",
              "      <th>3</th>\n",
              "      <td>1</td>\n",
              "      <td>54</td>\n",
              "      <td>88.549518</td>\n",
              "      <td>female</td>\n",
              "      <td>negative</td>\n",
              "      <td>False</td>\n",
              "      <td>-1.827613</td>\n",
              "      <td>-0.338373</td>\n",
              "      <td>none</td>\n",
              "      <td>1</td>\n",
              "      <td>1</td>\n",
              "    </tr>\n",
              "    <tr>\n",
              "      <th>4</th>\n",
              "      <td>0</td>\n",
              "      <td>73</td>\n",
              "      <td>82.171555</td>\n",
              "      <td>female</td>\n",
              "      <td>negative</td>\n",
              "      <td>NaN</td>\n",
              "      <td>-14.637389</td>\n",
              "      <td>-0.369325</td>\n",
              "      <td>none</td>\n",
              "      <td>1</td>\n",
              "      <td>1</td>\n",
              "    </tr>\n",
              "  </tbody>\n",
              "</table>\n",
              "</div>"
            ],
            "text/plain": [
              "   treatment  age  blood_pressure      gender  ...     TestB   GeneA  GeneB  GeneC\n",
              "0          1   74       94.113373  non-female  ... -0.336843  double      1      0\n",
              "1          1   56       83.337745  non-female  ... -0.018734    none      1      1\n",
              "2          0   37       81.759240      female  ...  0.147933  double      1      1\n",
              "3          1   54       88.549518      female  ... -0.338373    none      1      1\n",
              "4          0   73       82.171555      female  ... -0.369325    none      1      1\n",
              "\n",
              "[5 rows x 11 columns]"
            ]
          },
          "metadata": {
            "tags": []
          },
          "execution_count": 724
        }
      ]
    },
    {
      "cell_type": "code",
      "metadata": {
        "id": "te3L0Lg7J4_m",
        "colab": {
          "base_uri": "https://localhost:8080/",
          "height": 284
        },
        "outputId": "4951cbb7-3577-47d6-b6c6-1bdec992d478"
      },
      "source": [
        "# describing the distribution of numerical features of the dataset\r\n",
        "\r\n",
        "df.describe()"
      ],
      "execution_count": 725,
      "outputs": [
        {
          "output_type": "execute_result",
          "data": {
            "text/html": [
              "<div>\n",
              "<style scoped>\n",
              "    .dataframe tbody tr th:only-of-type {\n",
              "        vertical-align: middle;\n",
              "    }\n",
              "\n",
              "    .dataframe tbody tr th {\n",
              "        vertical-align: top;\n",
              "    }\n",
              "\n",
              "    .dataframe thead th {\n",
              "        text-align: right;\n",
              "    }\n",
              "</style>\n",
              "<table border=\"1\" class=\"dataframe\">\n",
              "  <thead>\n",
              "    <tr style=\"text-align: right;\">\n",
              "      <th></th>\n",
              "      <th>treatment</th>\n",
              "      <th>age</th>\n",
              "      <th>blood_pressure</th>\n",
              "      <th>MeasureA</th>\n",
              "      <th>TestB</th>\n",
              "      <th>GeneB</th>\n",
              "      <th>GeneC</th>\n",
              "    </tr>\n",
              "  </thead>\n",
              "  <tbody>\n",
              "    <tr>\n",
              "      <th>count</th>\n",
              "      <td>10000.000000</td>\n",
              "      <td>10000.000000</td>\n",
              "      <td>10000.000000</td>\n",
              "      <td>10000.000000</td>\n",
              "      <td>10000.000000</td>\n",
              "      <td>10000.000000</td>\n",
              "      <td>10000.000000</td>\n",
              "    </tr>\n",
              "    <tr>\n",
              "      <th>mean</th>\n",
              "      <td>0.358700</td>\n",
              "      <td>60.032800</td>\n",
              "      <td>84.642355</td>\n",
              "      <td>-5.992414</td>\n",
              "      <td>0.004466</td>\n",
              "      <td>0.547900</td>\n",
              "      <td>0.550400</td>\n",
              "    </tr>\n",
              "    <tr>\n",
              "      <th>std</th>\n",
              "      <td>0.479643</td>\n",
              "      <td>8.106546</td>\n",
              "      <td>5.266045</td>\n",
              "      <td>4.168837</td>\n",
              "      <td>0.322338</td>\n",
              "      <td>0.497725</td>\n",
              "      <td>0.497478</td>\n",
              "    </tr>\n",
              "    <tr>\n",
              "      <th>min</th>\n",
              "      <td>0.000000</td>\n",
              "      <td>29.000000</td>\n",
              "      <td>-99.000000</td>\n",
              "      <td>-21.708000</td>\n",
              "      <td>-0.564197</td>\n",
              "      <td>0.000000</td>\n",
              "      <td>0.000000</td>\n",
              "    </tr>\n",
              "    <tr>\n",
              "      <th>25%</th>\n",
              "      <td>0.000000</td>\n",
              "      <td>55.000000</td>\n",
              "      <td>82.314030</td>\n",
              "      <td>-8.790691</td>\n",
              "      <td>-0.251337</td>\n",
              "      <td>0.000000</td>\n",
              "      <td>0.000000</td>\n",
              "    </tr>\n",
              "    <tr>\n",
              "      <th>50%</th>\n",
              "      <td>0.000000</td>\n",
              "      <td>60.000000</td>\n",
              "      <td>83.997305</td>\n",
              "      <td>-5.956422</td>\n",
              "      <td>-0.039662</td>\n",
              "      <td>1.000000</td>\n",
              "      <td>1.000000</td>\n",
              "    </tr>\n",
              "    <tr>\n",
              "      <th>75%</th>\n",
              "      <td>1.000000</td>\n",
              "      <td>66.000000</td>\n",
              "      <td>86.342954</td>\n",
              "      <td>-3.217110</td>\n",
              "      <td>0.215928</td>\n",
              "      <td>1.000000</td>\n",
              "      <td>1.000000</td>\n",
              "    </tr>\n",
              "    <tr>\n",
              "      <th>max</th>\n",
              "      <td>1.000000</td>\n",
              "      <td>92.000000</td>\n",
              "      <td>107.595583</td>\n",
              "      <td>8.889658</td>\n",
              "      <td>1.231447</td>\n",
              "      <td>1.000000</td>\n",
              "      <td>1.000000</td>\n",
              "    </tr>\n",
              "  </tbody>\n",
              "</table>\n",
              "</div>"
            ],
            "text/plain": [
              "          treatment           age  ...         GeneB         GeneC\n",
              "count  10000.000000  10000.000000  ...  10000.000000  10000.000000\n",
              "mean       0.358700     60.032800  ...      0.547900      0.550400\n",
              "std        0.479643      8.106546  ...      0.497725      0.497478\n",
              "min        0.000000     29.000000  ...      0.000000      0.000000\n",
              "25%        0.000000     55.000000  ...      0.000000      0.000000\n",
              "50%        0.000000     60.000000  ...      1.000000      1.000000\n",
              "75%        1.000000     66.000000  ...      1.000000      1.000000\n",
              "max        1.000000     92.000000  ...      1.000000      1.000000\n",
              "\n",
              "[8 rows x 7 columns]"
            ]
          },
          "metadata": {
            "tags": []
          },
          "execution_count": 725
        }
      ]
    },
    {
      "cell_type": "code",
      "metadata": {
        "id": "QhgnzEmSGsgk",
        "colab": {
          "base_uri": "https://localhost:8080/"
        },
        "outputId": "7d2d0741-c262-4193-9a9d-993c383b33ca"
      },
      "source": [
        "# checking for null values in the dataset\r\n",
        "\r\n",
        "df.isnull().sum()"
      ],
      "execution_count": 726,
      "outputs": [
        {
          "output_type": "execute_result",
          "data": {
            "text/plain": [
              "treatment            0\n",
              "age                  0\n",
              "blood_pressure       0\n",
              "gender               0\n",
              "blood_test           0\n",
              "family_history    2932\n",
              "MeasureA             0\n",
              "TestB                0\n",
              "GeneA                0\n",
              "GeneB                0\n",
              "GeneC                0\n",
              "dtype: int64"
            ]
          },
          "metadata": {
            "tags": []
          },
          "execution_count": 726
        }
      ]
    },
    {
      "cell_type": "markdown",
      "metadata": {
        "id": "uwljDMXDm2M_"
      },
      "source": [
        "\r\n",
        "\r\n",
        "---\r\n",
        "\r\n",
        "\r\n",
        "family_history has around 29% null values\r\n",
        "\r\n",
        "\r\n",
        "\r\n",
        "---\r\n",
        "\r\n",
        "\r\n",
        "\r\n",
        "\r\n"
      ]
    },
    {
      "cell_type": "code",
      "metadata": {
        "id": "dy-ogFeeIJVo",
        "colab": {
          "base_uri": "https://localhost:8080/",
          "height": 725
        },
        "outputId": "8145b721-af18-4f86-c21b-4b631dc1f74c"
      },
      "source": [
        "# plotting the composition of categorical features in the dataset\r\n",
        "\r\n",
        "fig, axes = plt.subplots(2,3, figsize=(15,10), sharex=False, sharey=False)\r\n",
        "\r\n",
        "sns.set_theme(style=\"darkgrid\")\r\n",
        "sns.axes_style(\"dark\")\r\n",
        "sns.countplot(x=df['family_history'], ax=axes[0,0], order=[True,False])\r\n",
        "axes[0,0].set_title('Family_history')\r\n",
        "\r\n",
        "sns.countplot(x=df['gender'], ax=axes[0,1], order=['female','non-female'])\r\n",
        "axes[0,1].set_title('gender')\r\n",
        "\r\n",
        "sns.countplot(x=df['blood_test'], ax=axes[0,2], order=['positive','negative'])\r\n",
        "axes[0,2].set_title('blood_test')\r\n",
        "\r\n",
        "sns.countplot(x=df['GeneA'], ax=axes[1,0], order=['none','single','double'])\r\n",
        "axes[1,0].set_title('GeneA')\r\n",
        "\r\n",
        "sns.countplot(x=df['GeneB'], ax=axes[1,1])\r\n",
        "axes[1,1].set_title('GeneB')\r\n",
        "\r\n",
        "sns.countplot(x=df['GeneC'], ax=axes[1,2])\r\n",
        "axes[1,2].set_title('GeneC')\r\n",
        "\r\n",
        "plt.tight_layout()"
      ],
      "execution_count": 727,
      "outputs": [
        {
          "output_type": "display_data",
          "data": {
            "image/png": "[encoded data removed]",
            "text/plain": [
              "<Figure size 1080x720 with 6 Axes>"
            ]
          },
          "metadata": {
            "tags": []
          }
        }
      ]
    },
    {
      "cell_type": "code",
      "metadata": {
        "id": "ZDOQ0-zhyVK5",
        "colab": {
          "base_uri": "https://localhost:8080/"
        },
        "outputId": "fc720550-9c29-4688-9162-bea42d249866"
      },
      "source": [
        "# for true values of family_history we check for treatment recommended\r\n",
        "\r\n",
        "df1 = df[df['family_history']==True]\r\n",
        "df2 = df1[df1['treatment']==0]\r\n",
        "df3 = df1[df1['treatment']==1]\r\n",
        "df2.shape, df3.shape"
      ],
      "execution_count": 728,
      "outputs": [
        {
          "output_type": "execute_result",
          "data": {
            "text/plain": [
              "((0, 11), (100, 11))"
            ]
          },
          "metadata": {
            "tags": []
          },
          "execution_count": 728
        }
      ]
    },
    {
      "cell_type": "code",
      "metadata": {
        "id": "llJZ1ADQ1WDE",
        "colab": {
          "base_uri": "https://localhost:8080/"
        },
        "outputId": "b93e1797-7668-490e-8dde-2154def94969"
      },
      "source": [
        "# for positive values of blood_test we check for treatment recommended\r\n",
        "\r\n",
        "df1 = df[df['blood_test']=='positive']\r\n",
        "df2 = df1[df1['treatment']==0]\r\n",
        "df3 = df1[df1['treatment']==1]\r\n",
        "df2.shape, df3.shape"
      ],
      "execution_count": 729,
      "outputs": [
        {
          "output_type": "execute_result",
          "data": {
            "text/plain": [
              "((673, 11), (260, 11))"
            ]
          },
          "metadata": {
            "tags": []
          },
          "execution_count": 729
        }
      ]
    },
    {
      "cell_type": "markdown",
      "metadata": {
        "id": "l_dqeqqQnaE3"
      },
      "source": [
        "\r\n",
        "\r\n",
        "\r\n",
        "\r\n",
        "---\r\n",
        "\r\n",
        "\r\n",
        "\r\n",
        "\r\n",
        "family_history has a very biased distribution of majority values as 'false' and very small number of 'true' values. Along with this, it has 29% of null data.\r\n",
        "With this imbalanced distribution, it is difficult to predict values for the missing observations. Hence, we would ignore these null valued observations from our dataset.\r\n",
        "\r\n",
        "\r\n",
        "\r\n",
        "---\r\n",
        "\r\n"
      ]
    },
    {
      "cell_type": "code",
      "metadata": {
        "id": "bXlib_Uc1rL3",
        "colab": {
          "base_uri": "https://localhost:8080/",
          "height": 195
        },
        "outputId": "ef9312a0-6045-4cf3-b34d-4879aa529ac9"
      },
      "source": [
        "# dropping null value observations from the dataset\r\n",
        "\r\n",
        "df.dropna(inplace=True)\r\n",
        "df.head()"
      ],
      "execution_count": 730,
      "outputs": [
        {
          "output_type": "execute_result",
          "data": {
            "text/html": [
              "<div>\n",
              "<style scoped>\n",
              "    .dataframe tbody tr th:only-of-type {\n",
              "        vertical-align: middle;\n",
              "    }\n",
              "\n",
              "    .dataframe tbody tr th {\n",
              "        vertical-align: top;\n",
              "    }\n",
              "\n",
              "    .dataframe thead th {\n",
              "        text-align: right;\n",
              "    }\n",
              "</style>\n",
              "<table border=\"1\" class=\"dataframe\">\n",
              "  <thead>\n",
              "    <tr style=\"text-align: right;\">\n",
              "      <th></th>\n",
              "      <th>treatment</th>\n",
              "      <th>age</th>\n",
              "      <th>blood_pressure</th>\n",
              "      <th>gender</th>\n",
              "      <th>blood_test</th>\n",
              "      <th>family_history</th>\n",
              "      <th>MeasureA</th>\n",
              "      <th>TestB</th>\n",
              "      <th>GeneA</th>\n",
              "      <th>GeneB</th>\n",
              "      <th>GeneC</th>\n",
              "    </tr>\n",
              "  </thead>\n",
              "  <tbody>\n",
              "    <tr>\n",
              "      <th>0</th>\n",
              "      <td>1</td>\n",
              "      <td>74</td>\n",
              "      <td>94.113373</td>\n",
              "      <td>non-female</td>\n",
              "      <td>negative</td>\n",
              "      <td>False</td>\n",
              "      <td>-11.035690</td>\n",
              "      <td>-0.336843</td>\n",
              "      <td>double</td>\n",
              "      <td>1</td>\n",
              "      <td>0</td>\n",
              "    </tr>\n",
              "    <tr>\n",
              "      <th>1</th>\n",
              "      <td>1</td>\n",
              "      <td>56</td>\n",
              "      <td>83.337745</td>\n",
              "      <td>non-female</td>\n",
              "      <td>negative</td>\n",
              "      <td>False</td>\n",
              "      <td>-3.982345</td>\n",
              "      <td>-0.018734</td>\n",
              "      <td>none</td>\n",
              "      <td>1</td>\n",
              "      <td>1</td>\n",
              "    </tr>\n",
              "    <tr>\n",
              "      <th>2</th>\n",
              "      <td>0</td>\n",
              "      <td>37</td>\n",
              "      <td>81.759240</td>\n",
              "      <td>female</td>\n",
              "      <td>negative</td>\n",
              "      <td>False</td>\n",
              "      <td>6.205701</td>\n",
              "      <td>0.147933</td>\n",
              "      <td>double</td>\n",
              "      <td>1</td>\n",
              "      <td>1</td>\n",
              "    </tr>\n",
              "    <tr>\n",
              "      <th>3</th>\n",
              "      <td>1</td>\n",
              "      <td>54</td>\n",
              "      <td>88.549518</td>\n",
              "      <td>female</td>\n",
              "      <td>negative</td>\n",
              "      <td>False</td>\n",
              "      <td>-1.827613</td>\n",
              "      <td>-0.338373</td>\n",
              "      <td>none</td>\n",
              "      <td>1</td>\n",
              "      <td>1</td>\n",
              "    </tr>\n",
              "    <tr>\n",
              "      <th>5</th>\n",
              "      <td>0</td>\n",
              "      <td>52</td>\n",
              "      <td>81.778809</td>\n",
              "      <td>female</td>\n",
              "      <td>negative</td>\n",
              "      <td>False</td>\n",
              "      <td>-2.034462</td>\n",
              "      <td>-0.040692</td>\n",
              "      <td>none</td>\n",
              "      <td>1</td>\n",
              "      <td>0</td>\n",
              "    </tr>\n",
              "  </tbody>\n",
              "</table>\n",
              "</div>"
            ],
            "text/plain": [
              "   treatment  age  blood_pressure      gender  ...     TestB   GeneA  GeneB  GeneC\n",
              "0          1   74       94.113373  non-female  ... -0.336843  double      1      0\n",
              "1          1   56       83.337745  non-female  ... -0.018734    none      1      1\n",
              "2          0   37       81.759240      female  ...  0.147933  double      1      1\n",
              "3          1   54       88.549518      female  ... -0.338373    none      1      1\n",
              "5          0   52       81.778809      female  ... -0.040692    none      1      0\n",
              "\n",
              "[5 rows x 11 columns]"
            ]
          },
          "metadata": {
            "tags": []
          },
          "execution_count": 730
        }
      ]
    },
    {
      "cell_type": "markdown",
      "metadata": {
        "id": "XFQ_3o_coSW_"
      },
      "source": [
        "\r\n",
        "\r\n",
        "---\r\n",
        "Now, the dataset is free of any null values\r\n",
        "\r\n",
        "---\r\n",
        "\r\n",
        "\r\n",
        "\r\n"
      ]
    },
    {
      "cell_type": "code",
      "metadata": {
        "id": "homnLA94nMLh",
        "colab": {
          "base_uri": "https://localhost:8080/",
          "height": 526
        },
        "outputId": "e36e860c-0f6e-49ef-97b5-e2a3793bf9b0"
      },
      "source": [
        "# using the norm package from scipy.stats library to plot the normal curve so as to include a reference normal distribution\r\n",
        "# to the distribution of our numerical features MeasureA, TestB, age and blood_pressure\r\n",
        "\r\n",
        "from scipy.stats import norm\r\n",
        "fig1, axes1 = plt.subplots(1,4, figsize=(20,5), sharex=False, sharey=False)\r\n",
        "\r\n",
        "sns.distplot(df['MeasureA'], fit=norm, kde=False, ax=axes1[0])\r\n",
        "axes1[0].set_title('MeasureA distribution')\r\n",
        "\r\n",
        "sns.distplot(df['TestB'], fit=norm, kde=False, color='y', ax=axes1[1])\r\n",
        "axes1[1].set_title('TestB distribution')\r\n",
        "\r\n",
        "sns.distplot(df['age'], fit=norm, kde=False, bins=15 ,ax=axes1[2])\r\n",
        "axes1[2].set_title('Age distribution')\r\n",
        "\r\n",
        "a = sns.distplot(df['blood_pressure'], fit=norm, kde=False, color = 'r', ax=axes1[3], bins=200)\r\n",
        "axes1[3].set_title('Blood Pressure distribution')\r\n",
        "a.set(xlim=(40,120))\r\n"
      ],
      "execution_count": 731,
      "outputs": [
        {
          "output_type": "stream",
          "text": [
            "/usr/local/lib/python3.6/dist-packages/seaborn/distributions.py:2557: FutureWarning: `distplot` is a deprecated function and will be removed in a future version. Please adapt your code to use either `displot` (a figure-level function with similar flexibility) or `histplot` (an axes-level function for histograms).\n",
            "  warnings.warn(msg, FutureWarning)\n",
            "/usr/local/lib/python3.6/dist-packages/seaborn/distributions.py:2557: FutureWarning: `distplot` is a deprecated function and will be removed in a future version. Please adapt your code to use either `displot` (a figure-level function with similar flexibility) or `histplot` (an axes-level function for histograms).\n",
            "  warnings.warn(msg, FutureWarning)\n",
            "/usr/local/lib/python3.6/dist-packages/seaborn/distributions.py:2557: FutureWarning: `distplot` is a deprecated function and will be removed in a future version. Please adapt your code to use either `displot` (a figure-level function with similar flexibility) or `histplot` (an axes-level function for histograms).\n",
            "  warnings.warn(msg, FutureWarning)\n",
            "/usr/local/lib/python3.6/dist-packages/seaborn/distributions.py:2557: FutureWarning: `distplot` is a deprecated function and will be removed in a future version. Please adapt your code to use either `displot` (a figure-level function with similar flexibility) or `histplot` (an axes-level function for histograms).\n",
            "  warnings.warn(msg, FutureWarning)\n"
          ],
          "name": "stderr"
        },
        {
          "output_type": "execute_result",
          "data": {
            "text/plain": [
              "[(40.0, 120.0)]"
            ]
          },
          "metadata": {
            "tags": []
          },
          "execution_count": 731
        },
        {
          "output_type": "display_data",
          "data": {
            "image/png": "[encoded data removed]",
            "text/plain": [
              "<Figure size 1440x360 with 4 Axes>"
            ]
          },
          "metadata": {
            "tags": []
          }
        }
      ]
    },
    {
      "cell_type": "markdown",
      "metadata": {
        "id": "bmQ9Eby6pGnO"
      },
      "source": [
        "\r\n",
        "\r\n",
        "---\r\n",
        "from the feature description and the graphs above, we observe that blood_pressure has some negative values. Since, that is not possible, we consider this as faulty data and handle it.\r\n",
        "\r\n",
        "---\r\n",
        "\r\n",
        "\r\n",
        "\r\n"
      ]
    },
    {
      "cell_type": "code",
      "metadata": {
        "id": "FBFURZCIqVeE",
        "colab": {
          "base_uri": "https://localhost:8080/"
        },
        "outputId": "d2d74275-f591-4214-b700-3ff469089bce"
      },
      "source": [
        "# checking number of observations with blood_pressure value less than 0\r\n",
        "\r\n",
        "print('Blood pressure less than 0: ',df[df['blood_pressure']<0].count()[0])\r\n",
        "print(df['blood_pressure'][df['blood_pressure']<0])\r\n",
        "\r\n",
        "print('Blood pressure less than 80: ',df[df['blood_pressure']<80].count()[0])\r\n",
        "print(df['blood_pressure'][df['blood_pressure']<80])"
      ],
      "execution_count": 732,
      "outputs": [
        {
          "output_type": "stream",
          "text": [
            "Blood pressure less than 0:  3\n",
            "1938   -99.0\n",
            "1954   -99.0\n",
            "4054   -99.0\n",
            "Name: blood_pressure, dtype: float64\n",
            "Blood pressure less than 80:  3\n",
            "1938   -99.0\n",
            "1954   -99.0\n",
            "4054   -99.0\n",
            "Name: blood_pressure, dtype: float64\n"
          ],
          "name": "stdout"
        }
      ]
    },
    {
      "cell_type": "markdown",
      "metadata": {
        "id": "yMfm51w8qEp8"
      },
      "source": [
        "\r\n",
        "\r\n",
        "---\r\n",
        "The observations with blood_pressure less than 0 are same as those less than 80, so we restrict blood_pressure to values 80 or more by replacing those observations with the mean.\r\n",
        "\r\n",
        "---\r\n",
        "\r\n",
        "\r\n",
        "\r\n"
      ]
    },
    {
      "cell_type": "code",
      "metadata": {
        "id": "hwZLM2PDU-L3",
        "colab": {
          "base_uri": "https://localhost:8080/"
        },
        "outputId": "5989ea15-872f-438c-d3be-b94dc4312230"
      },
      "source": [
        "# Replacing anomalies with the column mean\r\n",
        "df['blood_pressure'][1938] = df['blood_pressure'].mean()\r\n",
        "df['blood_pressure'][1954] = df['blood_pressure'].mean()\r\n",
        "df['blood_pressure'][4054] = df['blood_pressure'].mean()\r\n",
        "df.reset_index(drop=True, inplace=True)\r\n",
        "\r\n",
        "# print(df['blood_pressure'][df['blood_pressure']<80])"
      ],
      "execution_count": 733,
      "outputs": [
        {
          "output_type": "stream",
          "text": [
            "/usr/local/lib/python3.6/dist-packages/ipykernel_launcher.py:2: SettingWithCopyWarning: \n",
            "A value is trying to be set on a copy of a slice from a DataFrame\n",
            "\n",
            "See the caveats in the documentation: https://pandas.pydata.org/pandas-docs/stable/user_guide/indexing.html#returning-a-view-versus-a-copy\n",
            "  \n",
            "/usr/local/lib/python3.6/dist-packages/ipykernel_launcher.py:3: SettingWithCopyWarning: \n",
            "A value is trying to be set on a copy of a slice from a DataFrame\n",
            "\n",
            "See the caveats in the documentation: https://pandas.pydata.org/pandas-docs/stable/user_guide/indexing.html#returning-a-view-versus-a-copy\n",
            "  This is separate from the ipykernel package so we can avoid doing imports until\n",
            "/usr/local/lib/python3.6/dist-packages/ipykernel_launcher.py:4: SettingWithCopyWarning: \n",
            "A value is trying to be set on a copy of a slice from a DataFrame\n",
            "\n",
            "See the caveats in the documentation: https://pandas.pydata.org/pandas-docs/stable/user_guide/indexing.html#returning-a-view-versus-a-copy\n",
            "  after removing the cwd from sys.path.\n"
          ],
          "name": "stderr"
        }
      ]
    },
    {
      "cell_type": "code",
      "metadata": {
        "id": "ZuBY3-VOJlt-"
      },
      "source": [
        "# encoding categorical variables into integer equivalents\r\n",
        "\r\n",
        "map = {'female':1, 'non-female':0}\r\n",
        "df.loc[:, 'gender'] = df.gender.map(map)\r\n",
        "\r\n",
        "map1 = {'negative':0, 'positive':1}\r\n",
        "df.loc[:, 'blood_test'] = df.blood_test.map(map1)\r\n",
        "\r\n",
        "map2 = {False:0, True:1}\r\n",
        "df.loc[:, 'family_history'] = df.family_history.map(map2)\r\n",
        "\r\n",
        "map3 = {'none':0, 'single':1, 'double':2}\r\n",
        "df.loc[:, 'GeneA'] = df.GeneA.map(map3)"
      ],
      "execution_count": 734,
      "outputs": []
    },
    {
      "cell_type": "code",
      "metadata": {
        "id": "yK6mQRY6oX_S",
        "colab": {
          "base_uri": "https://localhost:8080/",
          "height": 195
        },
        "outputId": "36c619a2-b840-4c70-d41f-2d8d42fe1fe0"
      },
      "source": [
        "# viewing the encoded dataset\r\n",
        "\r\n",
        "df.head()"
      ],
      "execution_count": 735,
      "outputs": [
        {
          "output_type": "execute_result",
          "data": {
            "text/html": [
              "<div>\n",
              "<style scoped>\n",
              "    .dataframe tbody tr th:only-of-type {\n",
              "        vertical-align: middle;\n",
              "    }\n",
              "\n",
              "    .dataframe tbody tr th {\n",
              "        vertical-align: top;\n",
              "    }\n",
              "\n",
              "    .dataframe thead th {\n",
              "        text-align: right;\n",
              "    }\n",
              "</style>\n",
              "<table border=\"1\" class=\"dataframe\">\n",
              "  <thead>\n",
              "    <tr style=\"text-align: right;\">\n",
              "      <th></th>\n",
              "      <th>treatment</th>\n",
              "      <th>age</th>\n",
              "      <th>blood_pressure</th>\n",
              "      <th>gender</th>\n",
              "      <th>blood_test</th>\n",
              "      <th>family_history</th>\n",
              "      <th>MeasureA</th>\n",
              "      <th>TestB</th>\n",
              "      <th>GeneA</th>\n",
              "      <th>GeneB</th>\n",
              "      <th>GeneC</th>\n",
              "    </tr>\n",
              "  </thead>\n",
              "  <tbody>\n",
              "    <tr>\n",
              "      <th>0</th>\n",
              "      <td>1</td>\n",
              "      <td>74</td>\n",
              "      <td>94.113373</td>\n",
              "      <td>0</td>\n",
              "      <td>0</td>\n",
              "      <td>0</td>\n",
              "      <td>-11.035690</td>\n",
              "      <td>-0.336843</td>\n",
              "      <td>2</td>\n",
              "      <td>1</td>\n",
              "      <td>0</td>\n",
              "    </tr>\n",
              "    <tr>\n",
              "      <th>1</th>\n",
              "      <td>1</td>\n",
              "      <td>56</td>\n",
              "      <td>83.337745</td>\n",
              "      <td>0</td>\n",
              "      <td>0</td>\n",
              "      <td>0</td>\n",
              "      <td>-3.982345</td>\n",
              "      <td>-0.018734</td>\n",
              "      <td>0</td>\n",
              "      <td>1</td>\n",
              "      <td>1</td>\n",
              "    </tr>\n",
              "    <tr>\n",
              "      <th>2</th>\n",
              "      <td>0</td>\n",
              "      <td>37</td>\n",
              "      <td>81.759240</td>\n",
              "      <td>1</td>\n",
              "      <td>0</td>\n",
              "      <td>0</td>\n",
              "      <td>6.205701</td>\n",
              "      <td>0.147933</td>\n",
              "      <td>2</td>\n",
              "      <td>1</td>\n",
              "      <td>1</td>\n",
              "    </tr>\n",
              "    <tr>\n",
              "      <th>3</th>\n",
              "      <td>1</td>\n",
              "      <td>54</td>\n",
              "      <td>88.549518</td>\n",
              "      <td>1</td>\n",
              "      <td>0</td>\n",
              "      <td>0</td>\n",
              "      <td>-1.827613</td>\n",
              "      <td>-0.338373</td>\n",
              "      <td>0</td>\n",
              "      <td>1</td>\n",
              "      <td>1</td>\n",
              "    </tr>\n",
              "    <tr>\n",
              "      <th>4</th>\n",
              "      <td>0</td>\n",
              "      <td>52</td>\n",
              "      <td>81.778809</td>\n",
              "      <td>1</td>\n",
              "      <td>0</td>\n",
              "      <td>0</td>\n",
              "      <td>-2.034462</td>\n",
              "      <td>-0.040692</td>\n",
              "      <td>0</td>\n",
              "      <td>1</td>\n",
              "      <td>0</td>\n",
              "    </tr>\n",
              "  </tbody>\n",
              "</table>\n",
              "</div>"
            ],
            "text/plain": [
              "   treatment  age  blood_pressure  gender  ...     TestB  GeneA  GeneB  GeneC\n",
              "0          1   74       94.113373       0  ... -0.336843      2      1      0\n",
              "1          1   56       83.337745       0  ... -0.018734      0      1      1\n",
              "2          0   37       81.759240       1  ...  0.147933      2      1      1\n",
              "3          1   54       88.549518       1  ... -0.338373      0      1      1\n",
              "4          0   52       81.778809       1  ... -0.040692      0      1      0\n",
              "\n",
              "[5 rows x 11 columns]"
            ]
          },
          "metadata": {
            "tags": []
          },
          "execution_count": 735
        }
      ]
    },
    {
      "cell_type": "code",
      "metadata": {
        "colab": {
          "base_uri": "https://localhost:8080/",
          "height": 373
        },
        "id": "hSw0-bVCuNCA",
        "outputId": "0c1f8518-2cc0-4f64-8a2f-0f44f00215e4"
      },
      "source": [
        "df.corr()"
      ],
      "execution_count": 736,
      "outputs": [
        {
          "output_type": "execute_result",
          "data": {
            "text/html": [
              "<div>\n",
              "<style scoped>\n",
              "    .dataframe tbody tr th:only-of-type {\n",
              "        vertical-align: middle;\n",
              "    }\n",
              "\n",
              "    .dataframe tbody tr th {\n",
              "        vertical-align: top;\n",
              "    }\n",
              "\n",
              "    .dataframe thead th {\n",
              "        text-align: right;\n",
              "    }\n",
              "</style>\n",
              "<table border=\"1\" class=\"dataframe\">\n",
              "  <thead>\n",
              "    <tr style=\"text-align: right;\">\n",
              "      <th></th>\n",
              "      <th>treatment</th>\n",
              "      <th>age</th>\n",
              "      <th>blood_pressure</th>\n",
              "      <th>gender</th>\n",
              "      <th>blood_test</th>\n",
              "      <th>family_history</th>\n",
              "      <th>MeasureA</th>\n",
              "      <th>TestB</th>\n",
              "      <th>GeneA</th>\n",
              "      <th>GeneB</th>\n",
              "      <th>GeneC</th>\n",
              "    </tr>\n",
              "  </thead>\n",
              "  <tbody>\n",
              "    <tr>\n",
              "      <th>treatment</th>\n",
              "      <td>1.000000</td>\n",
              "      <td>-0.147294</td>\n",
              "      <td>0.093475</td>\n",
              "      <td>-0.321952</td>\n",
              "      <td>-0.050201</td>\n",
              "      <td>0.162336</td>\n",
              "      <td>0.142355</td>\n",
              "      <td>0.042063</td>\n",
              "      <td>0.003036</td>\n",
              "      <td>0.029843</td>\n",
              "      <td>0.041178</td>\n",
              "    </tr>\n",
              "    <tr>\n",
              "      <th>age</th>\n",
              "      <td>-0.147294</td>\n",
              "      <td>1.000000</td>\n",
              "      <td>-0.005308</td>\n",
              "      <td>-0.008913</td>\n",
              "      <td>-0.014782</td>\n",
              "      <td>-0.000799</td>\n",
              "      <td>-0.970944</td>\n",
              "      <td>0.002526</td>\n",
              "      <td>0.009880</td>\n",
              "      <td>0.023575</td>\n",
              "      <td>0.006706</td>\n",
              "    </tr>\n",
              "    <tr>\n",
              "      <th>blood_pressure</th>\n",
              "      <td>0.093475</td>\n",
              "      <td>-0.005308</td>\n",
              "      <td>1.000000</td>\n",
              "      <td>-0.004200</td>\n",
              "      <td>0.009812</td>\n",
              "      <td>-0.018120</td>\n",
              "      <td>0.006325</td>\n",
              "      <td>0.008632</td>\n",
              "      <td>0.021364</td>\n",
              "      <td>-0.002090</td>\n",
              "      <td>-0.008336</td>\n",
              "    </tr>\n",
              "    <tr>\n",
              "      <th>gender</th>\n",
              "      <td>-0.321952</td>\n",
              "      <td>-0.008913</td>\n",
              "      <td>-0.004200</td>\n",
              "      <td>1.000000</td>\n",
              "      <td>-0.012619</td>\n",
              "      <td>0.017217</td>\n",
              "      <td>0.011381</td>\n",
              "      <td>0.026275</td>\n",
              "      <td>-0.012522</td>\n",
              "      <td>0.008089</td>\n",
              "      <td>0.010526</td>\n",
              "    </tr>\n",
              "    <tr>\n",
              "      <th>blood_test</th>\n",
              "      <td>-0.050201</td>\n",
              "      <td>-0.014782</td>\n",
              "      <td>0.009812</td>\n",
              "      <td>-0.012619</td>\n",
              "      <td>1.000000</td>\n",
              "      <td>-0.000229</td>\n",
              "      <td>0.017416</td>\n",
              "      <td>-0.012629</td>\n",
              "      <td>0.015426</td>\n",
              "      <td>-0.000323</td>\n",
              "      <td>-0.019699</td>\n",
              "    </tr>\n",
              "    <tr>\n",
              "      <th>family_history</th>\n",
              "      <td>0.162336</td>\n",
              "      <td>-0.000799</td>\n",
              "      <td>-0.018120</td>\n",
              "      <td>0.017217</td>\n",
              "      <td>-0.000229</td>\n",
              "      <td>1.000000</td>\n",
              "      <td>-0.000034</td>\n",
              "      <td>0.012992</td>\n",
              "      <td>-0.018759</td>\n",
              "      <td>-0.012164</td>\n",
              "      <td>0.008936</td>\n",
              "    </tr>\n",
              "    <tr>\n",
              "      <th>MeasureA</th>\n",
              "      <td>0.142355</td>\n",
              "      <td>-0.970944</td>\n",
              "      <td>0.006325</td>\n",
              "      <td>0.011381</td>\n",
              "      <td>0.017416</td>\n",
              "      <td>-0.000034</td>\n",
              "      <td>1.000000</td>\n",
              "      <td>-0.001578</td>\n",
              "      <td>-0.008032</td>\n",
              "      <td>-0.024170</td>\n",
              "      <td>-0.005822</td>\n",
              "    </tr>\n",
              "    <tr>\n",
              "      <th>TestB</th>\n",
              "      <td>0.042063</td>\n",
              "      <td>0.002526</td>\n",
              "      <td>0.008632</td>\n",
              "      <td>0.026275</td>\n",
              "      <td>-0.012629</td>\n",
              "      <td>0.012992</td>\n",
              "      <td>-0.001578</td>\n",
              "      <td>1.000000</td>\n",
              "      <td>0.001962</td>\n",
              "      <td>-0.021551</td>\n",
              "      <td>0.014354</td>\n",
              "    </tr>\n",
              "    <tr>\n",
              "      <th>GeneA</th>\n",
              "      <td>0.003036</td>\n",
              "      <td>0.009880</td>\n",
              "      <td>0.021364</td>\n",
              "      <td>-0.012522</td>\n",
              "      <td>0.015426</td>\n",
              "      <td>-0.018759</td>\n",
              "      <td>-0.008032</td>\n",
              "      <td>0.001962</td>\n",
              "      <td>1.000000</td>\n",
              "      <td>-0.008785</td>\n",
              "      <td>0.000107</td>\n",
              "    </tr>\n",
              "    <tr>\n",
              "      <th>GeneB</th>\n",
              "      <td>0.029843</td>\n",
              "      <td>0.023575</td>\n",
              "      <td>-0.002090</td>\n",
              "      <td>0.008089</td>\n",
              "      <td>-0.000323</td>\n",
              "      <td>-0.012164</td>\n",
              "      <td>-0.024170</td>\n",
              "      <td>-0.021551</td>\n",
              "      <td>-0.008785</td>\n",
              "      <td>1.000000</td>\n",
              "      <td>-0.013953</td>\n",
              "    </tr>\n",
              "    <tr>\n",
              "      <th>GeneC</th>\n",
              "      <td>0.041178</td>\n",
              "      <td>0.006706</td>\n",
              "      <td>-0.008336</td>\n",
              "      <td>0.010526</td>\n",
              "      <td>-0.019699</td>\n",
              "      <td>0.008936</td>\n",
              "      <td>-0.005822</td>\n",
              "      <td>0.014354</td>\n",
              "      <td>0.000107</td>\n",
              "      <td>-0.013953</td>\n",
              "      <td>1.000000</td>\n",
              "    </tr>\n",
              "  </tbody>\n",
              "</table>\n",
              "</div>"
            ],
            "text/plain": [
              "                treatment       age  ...     GeneB     GeneC\n",
              "treatment        1.000000 -0.147294  ...  0.029843  0.041178\n",
              "age             -0.147294  1.000000  ...  0.023575  0.006706\n",
              "blood_pressure   0.093475 -0.005308  ... -0.002090 -0.008336\n",
              "gender          -0.321952 -0.008913  ...  0.008089  0.010526\n",
              "blood_test      -0.050201 -0.014782  ... -0.000323 -0.019699\n",
              "family_history   0.162336 -0.000799  ... -0.012164  0.008936\n",
              "MeasureA         0.142355 -0.970944  ... -0.024170 -0.005822\n",
              "TestB            0.042063  0.002526  ... -0.021551  0.014354\n",
              "GeneA            0.003036  0.009880  ... -0.008785  0.000107\n",
              "GeneB            0.029843  0.023575  ...  1.000000 -0.013953\n",
              "GeneC            0.041178  0.006706  ... -0.013953  1.000000\n",
              "\n",
              "[11 rows x 11 columns]"
            ]
          },
          "metadata": {
            "tags": []
          },
          "execution_count": 736
        }
      ]
    },
    {
      "cell_type": "markdown",
      "metadata": {
        "id": "QdW7hv-krP4H"
      },
      "source": [
        "\r\n",
        "\r\n",
        "---\r\n",
        "MeasureA and TestB have negative values. We try to preserve their distribution but look to normalize them by squaring their values\r\n",
        "\r\n",
        "---\r\n",
        "\r\n",
        "\r\n",
        "\r\n"
      ]
    },
    {
      "cell_type": "code",
      "metadata": {
        "id": "ms5QsRfjazp3"
      },
      "source": [
        "# # normalizing MeasureA\r\n",
        "\r\n",
        "# df['MeasureA'] = np.square(df['MeasureA'])\r\n",
        "# df['MeasureA'] = np.sqrt(df['MeasureA'])"
      ],
      "execution_count": 737,
      "outputs": []
    },
    {
      "cell_type": "markdown",
      "metadata": {
        "id": "Xj7iGi-1vRIM"
      },
      "source": [
        "\r\n",
        "\r\n",
        "---\r\n",
        "We try measuring the correlation of MeasureA and TestB after normalization. It is observed that correlation of MeasureA does not improve even after normalization but correlation of TestB increases considerably. Hence, we only proceed with normalizing TestB\r\n",
        "\r\n",
        "---\r\n",
        "\r\n",
        "\r\n",
        "\r\n"
      ]
    },
    {
      "cell_type": "code",
      "metadata": {
        "id": "C67uSoZm1Ycg"
      },
      "source": [
        "# normalizing TestB\r\n",
        "\r\n",
        "df['TestB'] = np.square(df['TestB'])\r\n",
        "df['TestB'] = np.sqrt(df['TestB'])"
      ],
      "execution_count": 738,
      "outputs": []
    },
    {
      "cell_type": "code",
      "metadata": {
        "id": "7Wg1QDNRrqbA",
        "colab": {
          "base_uri": "https://localhost:8080/",
          "height": 373
        },
        "outputId": "ed346cba-fed4-4e01-bed2-387f43457e2c"
      },
      "source": [
        "# checking correlation between the variables\r\n",
        "\r\n",
        "df.corr()"
      ],
      "execution_count": 739,
      "outputs": [
        {
          "output_type": "execute_result",
          "data": {
            "text/html": [
              "<div>\n",
              "<style scoped>\n",
              "    .dataframe tbody tr th:only-of-type {\n",
              "        vertical-align: middle;\n",
              "    }\n",
              "\n",
              "    .dataframe tbody tr th {\n",
              "        vertical-align: top;\n",
              "    }\n",
              "\n",
              "    .dataframe thead th {\n",
              "        text-align: right;\n",
              "    }\n",
              "</style>\n",
              "<table border=\"1\" class=\"dataframe\">\n",
              "  <thead>\n",
              "    <tr style=\"text-align: right;\">\n",
              "      <th></th>\n",
              "      <th>treatment</th>\n",
              "      <th>age</th>\n",
              "      <th>blood_pressure</th>\n",
              "      <th>gender</th>\n",
              "      <th>blood_test</th>\n",
              "      <th>family_history</th>\n",
              "      <th>MeasureA</th>\n",
              "      <th>TestB</th>\n",
              "      <th>GeneA</th>\n",
              "      <th>GeneB</th>\n",
              "      <th>GeneC</th>\n",
              "    </tr>\n",
              "  </thead>\n",
              "  <tbody>\n",
              "    <tr>\n",
              "      <th>treatment</th>\n",
              "      <td>1.000000</td>\n",
              "      <td>-0.147294</td>\n",
              "      <td>0.093475</td>\n",
              "      <td>-0.321952</td>\n",
              "      <td>-0.050201</td>\n",
              "      <td>0.162336</td>\n",
              "      <td>0.142355</td>\n",
              "      <td>0.339402</td>\n",
              "      <td>0.003036</td>\n",
              "      <td>0.029843</td>\n",
              "      <td>0.041178</td>\n",
              "    </tr>\n",
              "    <tr>\n",
              "      <th>age</th>\n",
              "      <td>-0.147294</td>\n",
              "      <td>1.000000</td>\n",
              "      <td>-0.005308</td>\n",
              "      <td>-0.008913</td>\n",
              "      <td>-0.014782</td>\n",
              "      <td>-0.000799</td>\n",
              "      <td>-0.970944</td>\n",
              "      <td>0.010254</td>\n",
              "      <td>0.009880</td>\n",
              "      <td>0.023575</td>\n",
              "      <td>0.006706</td>\n",
              "    </tr>\n",
              "    <tr>\n",
              "      <th>blood_pressure</th>\n",
              "      <td>0.093475</td>\n",
              "      <td>-0.005308</td>\n",
              "      <td>1.000000</td>\n",
              "      <td>-0.004200</td>\n",
              "      <td>0.009812</td>\n",
              "      <td>-0.018120</td>\n",
              "      <td>0.006325</td>\n",
              "      <td>0.005592</td>\n",
              "      <td>0.021364</td>\n",
              "      <td>-0.002090</td>\n",
              "      <td>-0.008336</td>\n",
              "    </tr>\n",
              "    <tr>\n",
              "      <th>gender</th>\n",
              "      <td>-0.321952</td>\n",
              "      <td>-0.008913</td>\n",
              "      <td>-0.004200</td>\n",
              "      <td>1.000000</td>\n",
              "      <td>-0.012619</td>\n",
              "      <td>0.017217</td>\n",
              "      <td>0.011381</td>\n",
              "      <td>0.040276</td>\n",
              "      <td>-0.012522</td>\n",
              "      <td>0.008089</td>\n",
              "      <td>0.010526</td>\n",
              "    </tr>\n",
              "    <tr>\n",
              "      <th>blood_test</th>\n",
              "      <td>-0.050201</td>\n",
              "      <td>-0.014782</td>\n",
              "      <td>0.009812</td>\n",
              "      <td>-0.012619</td>\n",
              "      <td>1.000000</td>\n",
              "      <td>-0.000229</td>\n",
              "      <td>0.017416</td>\n",
              "      <td>0.014466</td>\n",
              "      <td>0.015426</td>\n",
              "      <td>-0.000323</td>\n",
              "      <td>-0.019699</td>\n",
              "    </tr>\n",
              "    <tr>\n",
              "      <th>family_history</th>\n",
              "      <td>0.162336</td>\n",
              "      <td>-0.000799</td>\n",
              "      <td>-0.018120</td>\n",
              "      <td>0.017217</td>\n",
              "      <td>-0.000229</td>\n",
              "      <td>1.000000</td>\n",
              "      <td>-0.000034</td>\n",
              "      <td>0.018030</td>\n",
              "      <td>-0.018759</td>\n",
              "      <td>-0.012164</td>\n",
              "      <td>0.008936</td>\n",
              "    </tr>\n",
              "    <tr>\n",
              "      <th>MeasureA</th>\n",
              "      <td>0.142355</td>\n",
              "      <td>-0.970944</td>\n",
              "      <td>0.006325</td>\n",
              "      <td>0.011381</td>\n",
              "      <td>0.017416</td>\n",
              "      <td>-0.000034</td>\n",
              "      <td>1.000000</td>\n",
              "      <td>-0.007192</td>\n",
              "      <td>-0.008032</td>\n",
              "      <td>-0.024170</td>\n",
              "      <td>-0.005822</td>\n",
              "    </tr>\n",
              "    <tr>\n",
              "      <th>TestB</th>\n",
              "      <td>0.339402</td>\n",
              "      <td>0.010254</td>\n",
              "      <td>0.005592</td>\n",
              "      <td>0.040276</td>\n",
              "      <td>0.014466</td>\n",
              "      <td>0.018030</td>\n",
              "      <td>-0.007192</td>\n",
              "      <td>1.000000</td>\n",
              "      <td>-0.005677</td>\n",
              "      <td>0.004951</td>\n",
              "      <td>0.003102</td>\n",
              "    </tr>\n",
              "    <tr>\n",
              "      <th>GeneA</th>\n",
              "      <td>0.003036</td>\n",
              "      <td>0.009880</td>\n",
              "      <td>0.021364</td>\n",
              "      <td>-0.012522</td>\n",
              "      <td>0.015426</td>\n",
              "      <td>-0.018759</td>\n",
              "      <td>-0.008032</td>\n",
              "      <td>-0.005677</td>\n",
              "      <td>1.000000</td>\n",
              "      <td>-0.008785</td>\n",
              "      <td>0.000107</td>\n",
              "    </tr>\n",
              "    <tr>\n",
              "      <th>GeneB</th>\n",
              "      <td>0.029843</td>\n",
              "      <td>0.023575</td>\n",
              "      <td>-0.002090</td>\n",
              "      <td>0.008089</td>\n",
              "      <td>-0.000323</td>\n",
              "      <td>-0.012164</td>\n",
              "      <td>-0.024170</td>\n",
              "      <td>0.004951</td>\n",
              "      <td>-0.008785</td>\n",
              "      <td>1.000000</td>\n",
              "      <td>-0.013953</td>\n",
              "    </tr>\n",
              "    <tr>\n",
              "      <th>GeneC</th>\n",
              "      <td>0.041178</td>\n",
              "      <td>0.006706</td>\n",
              "      <td>-0.008336</td>\n",
              "      <td>0.010526</td>\n",
              "      <td>-0.019699</td>\n",
              "      <td>0.008936</td>\n",
              "      <td>-0.005822</td>\n",
              "      <td>0.003102</td>\n",
              "      <td>0.000107</td>\n",
              "      <td>-0.013953</td>\n",
              "      <td>1.000000</td>\n",
              "    </tr>\n",
              "  </tbody>\n",
              "</table>\n",
              "</div>"
            ],
            "text/plain": [
              "                treatment       age  ...     GeneB     GeneC\n",
              "treatment        1.000000 -0.147294  ...  0.029843  0.041178\n",
              "age             -0.147294  1.000000  ...  0.023575  0.006706\n",
              "blood_pressure   0.093475 -0.005308  ... -0.002090 -0.008336\n",
              "gender          -0.321952 -0.008913  ...  0.008089  0.010526\n",
              "blood_test      -0.050201 -0.014782  ... -0.000323 -0.019699\n",
              "family_history   0.162336 -0.000799  ... -0.012164  0.008936\n",
              "MeasureA         0.142355 -0.970944  ... -0.024170 -0.005822\n",
              "TestB            0.339402  0.010254  ...  0.004951  0.003102\n",
              "GeneA            0.003036  0.009880  ... -0.008785  0.000107\n",
              "GeneB            0.029843  0.023575  ...  1.000000 -0.013953\n",
              "GeneC            0.041178  0.006706  ... -0.013953  1.000000\n",
              "\n",
              "[11 rows x 11 columns]"
            ]
          },
          "metadata": {
            "tags": []
          },
          "execution_count": 739
        }
      ]
    },
    {
      "cell_type": "code",
      "metadata": {
        "id": "GfIDNcidtpY9",
        "colab": {
          "base_uri": "https://localhost:8080/",
          "height": 284
        },
        "outputId": "3dc9cbee-db95-4688-e2f1-bd588bf6389e"
      },
      "source": [
        "# checking data description after normalizing TestB\r\n",
        "\r\n",
        "df.describe()"
      ],
      "execution_count": 740,
      "outputs": [
        {
          "output_type": "execute_result",
          "data": {
            "text/html": [
              "<div>\n",
              "<style scoped>\n",
              "    .dataframe tbody tr th:only-of-type {\n",
              "        vertical-align: middle;\n",
              "    }\n",
              "\n",
              "    .dataframe tbody tr th {\n",
              "        vertical-align: top;\n",
              "    }\n",
              "\n",
              "    .dataframe thead th {\n",
              "        text-align: right;\n",
              "    }\n",
              "</style>\n",
              "<table border=\"1\" class=\"dataframe\">\n",
              "  <thead>\n",
              "    <tr style=\"text-align: right;\">\n",
              "      <th></th>\n",
              "      <th>treatment</th>\n",
              "      <th>age</th>\n",
              "      <th>blood_pressure</th>\n",
              "      <th>gender</th>\n",
              "      <th>blood_test</th>\n",
              "      <th>family_history</th>\n",
              "      <th>MeasureA</th>\n",
              "      <th>TestB</th>\n",
              "      <th>GeneA</th>\n",
              "      <th>GeneB</th>\n",
              "      <th>GeneC</th>\n",
              "    </tr>\n",
              "  </thead>\n",
              "  <tbody>\n",
              "    <tr>\n",
              "      <th>count</th>\n",
              "      <td>7068.000000</td>\n",
              "      <td>7068.000000</td>\n",
              "      <td>7068.000000</td>\n",
              "      <td>7068.000000</td>\n",
              "      <td>7068.000000</td>\n",
              "      <td>7068.000000</td>\n",
              "      <td>7068.000000</td>\n",
              "      <td>7068.000000</td>\n",
              "      <td>7068.000000</td>\n",
              "      <td>7068.000000</td>\n",
              "      <td>7068.000000</td>\n",
              "    </tr>\n",
              "    <tr>\n",
              "      <th>mean</th>\n",
              "      <td>0.352575</td>\n",
              "      <td>59.924165</td>\n",
              "      <td>84.720086</td>\n",
              "      <td>0.641058</td>\n",
              "      <td>0.090549</td>\n",
              "      <td>0.014148</td>\n",
              "      <td>-5.944857</td>\n",
              "      <td>0.262685</td>\n",
              "      <td>0.898840</td>\n",
              "      <td>0.550509</td>\n",
              "      <td>0.552915</td>\n",
              "    </tr>\n",
              "    <tr>\n",
              "      <th>std</th>\n",
              "      <td>0.477806</td>\n",
              "      <td>8.120932</td>\n",
              "      <td>3.268540</td>\n",
              "      <td>0.479724</td>\n",
              "      <td>0.286987</td>\n",
              "      <td>0.118110</td>\n",
              "      <td>4.160564</td>\n",
              "      <td>0.184005</td>\n",
              "      <td>0.886727</td>\n",
              "      <td>0.497477</td>\n",
              "      <td>0.497227</td>\n",
              "    </tr>\n",
              "    <tr>\n",
              "      <th>min</th>\n",
              "      <td>0.000000</td>\n",
              "      <td>31.000000</td>\n",
              "      <td>80.021252</td>\n",
              "      <td>0.000000</td>\n",
              "      <td>0.000000</td>\n",
              "      <td>0.000000</td>\n",
              "      <td>-21.708000</td>\n",
              "      <td>0.000158</td>\n",
              "      <td>0.000000</td>\n",
              "      <td>0.000000</td>\n",
              "      <td>0.000000</td>\n",
              "    </tr>\n",
              "    <tr>\n",
              "      <th>25%</th>\n",
              "      <td>0.000000</td>\n",
              "      <td>54.000000</td>\n",
              "      <td>82.341646</td>\n",
              "      <td>0.000000</td>\n",
              "      <td>0.000000</td>\n",
              "      <td>0.000000</td>\n",
              "      <td>-8.755337</td>\n",
              "      <td>0.117143</td>\n",
              "      <td>0.000000</td>\n",
              "      <td>0.000000</td>\n",
              "      <td>0.000000</td>\n",
              "    </tr>\n",
              "    <tr>\n",
              "      <th>50%</th>\n",
              "      <td>0.000000</td>\n",
              "      <td>60.000000</td>\n",
              "      <td>83.968604</td>\n",
              "      <td>1.000000</td>\n",
              "      <td>0.000000</td>\n",
              "      <td>0.000000</td>\n",
              "      <td>-5.912194</td>\n",
              "      <td>0.236108</td>\n",
              "      <td>1.000000</td>\n",
              "      <td>1.000000</td>\n",
              "      <td>1.000000</td>\n",
              "    </tr>\n",
              "    <tr>\n",
              "      <th>75%</th>\n",
              "      <td>1.000000</td>\n",
              "      <td>65.000000</td>\n",
              "      <td>86.302465</td>\n",
              "      <td>1.000000</td>\n",
              "      <td>0.000000</td>\n",
              "      <td>0.000000</td>\n",
              "      <td>-3.145270</td>\n",
              "      <td>0.378666</td>\n",
              "      <td>2.000000</td>\n",
              "      <td>1.000000</td>\n",
              "      <td>1.000000</td>\n",
              "    </tr>\n",
              "    <tr>\n",
              "      <th>max</th>\n",
              "      <td>1.000000</td>\n",
              "      <td>92.000000</td>\n",
              "      <td>107.595583</td>\n",
              "      <td>1.000000</td>\n",
              "      <td>1.000000</td>\n",
              "      <td>1.000000</td>\n",
              "      <td>8.462421</td>\n",
              "      <td>1.142016</td>\n",
              "      <td>2.000000</td>\n",
              "      <td>1.000000</td>\n",
              "      <td>1.000000</td>\n",
              "    </tr>\n",
              "  </tbody>\n",
              "</table>\n",
              "</div>"
            ],
            "text/plain": [
              "         treatment          age  ...        GeneB        GeneC\n",
              "count  7068.000000  7068.000000  ...  7068.000000  7068.000000\n",
              "mean      0.352575    59.924165  ...     0.550509     0.552915\n",
              "std       0.477806     8.120932  ...     0.497477     0.497227\n",
              "min       0.000000    31.000000  ...     0.000000     0.000000\n",
              "25%       0.000000    54.000000  ...     0.000000     0.000000\n",
              "50%       0.000000    60.000000  ...     1.000000     1.000000\n",
              "75%       1.000000    65.000000  ...     1.000000     1.000000\n",
              "max       1.000000    92.000000  ...     1.000000     1.000000\n",
              "\n",
              "[8 rows x 11 columns]"
            ]
          },
          "metadata": {
            "tags": []
          },
          "execution_count": 740
        }
      ]
    },
    {
      "cell_type": "markdown",
      "metadata": {
        "id": "1ZmdVi_PwDZc"
      },
      "source": [
        "\r\n",
        "\r\n",
        "---\r\n",
        "Checking the important variables that contribute to the classification of treatment\r\n",
        "\r\n",
        "---\r\n",
        "\r\n",
        "\r\n",
        "\r\n"
      ]
    },
    {
      "cell_type": "code",
      "metadata": {
        "id": "QMFTJV3edQRK",
        "colab": {
          "base_uri": "https://localhost:8080/",
          "height": 510
        },
        "outputId": "7b5a96ab-da81-45c7-8afb-2a47478bf8c8"
      },
      "source": [
        "# Checking the importance of variables using LASSO since it works on L1 regularization that leads to changing coefficient of non_important variables to 0\r\n",
        "\r\n",
        "import matplotlib.pyplot as plt\r\n",
        "import numpy as np\r\n",
        "from sklearn.linear_model import LassoCV\r\n",
        "\r\n",
        "y = df['treatment']\r\n",
        "x = df.drop('treatment', axis=1)\r\n",
        "val = {}\r\n",
        "lasso = LassoCV().fit(x, y)\r\n",
        "importance = np.abs(lasso.coef_)\r\n",
        "feature_names = np.array(list(x.columns))\r\n",
        "\r\n",
        "a = sns.barplot(x=feature_names, y=importance)\r\n",
        "loc, labels = plt.xticks()\r\n",
        "a.set_xticklabels(labels, rotation=90)"
      ],
      "execution_count": 741,
      "outputs": [
        {
          "output_type": "execute_result",
          "data": {
            "text/plain": [
              "[Text(0, 0, 'age'),\n",
              " Text(0, 0, 'blood_pressure'),\n",
              " Text(0, 0, 'gender'),\n",
              " Text(0, 0, 'blood_test'),\n",
              " Text(0, 0, 'family_history'),\n",
              " Text(0, 0, 'MeasureA'),\n",
              " Text(0, 0, 'TestB'),\n",
              " Text(0, 0, 'GeneA'),\n",
              " Text(0, 0, 'GeneB'),\n",
              " Text(0, 0, 'GeneC')]"
            ]
          },
          "metadata": {
            "tags": []
          },
          "execution_count": 741
        },
        {
          "output_type": "display_data",
          "data": {
            "image/png": "[encoded data removed]",
            "text/plain": [
              "<Figure size 432x288 with 1 Axes>"
            ]
          },
          "metadata": {
            "tags": []
          }
        }
      ]
    },
    {
      "cell_type": "code",
      "metadata": {
        "id": "QEprYcw7Nku1",
        "colab": {
          "base_uri": "https://localhost:8080/"
        },
        "outputId": "7de19b04-5c20-451f-c373-3c9b5f7e8a5a"
      },
      "source": [
        "# performing reverse feature elimination to select 8 most important features\r\n",
        "\r\n",
        "from sklearn.linear_model import LogisticRegression\r\n",
        "from sklearn.feature_selection import RFE\r\n",
        "\r\n",
        "selected_features = []\r\n",
        "cols = ['age','blood_pressure','family_history','MeasureA','TestB','GeneB','GeneC', 'gender', 'blood_test', 'GeneA']\r\n",
        "X = df[cols]\r\n",
        "y = df['treatment']\r\n",
        "\r\n",
        "model = LogisticRegression(max_iter=700)\r\n",
        "\r\n",
        "# create the RFE model and select 8 attributes\r\n",
        "rfe = RFE(model, 8)\r\n",
        "rfe = rfe.fit(X, y)\r\n",
        "\r\n",
        "# summarize the selection of the attributes\r\n",
        "selected_features.append(list(X.columns[rfe.support_]))\r\n",
        "print('Selected features: %s' % selected_features[0])  \r\n",
        "\r\n",
        "dropped_features = []\r\n",
        "for i in cols:\r\n",
        "  if i not in selected_features[0]:\r\n",
        "    dropped_features.append(i)\r\n",
        "    \r\n",
        "print('Dropped features: ', dropped_features)"
      ],
      "execution_count": 742,
      "outputs": [
        {
          "output_type": "stream",
          "text": [
            "Selected features: ['age', 'blood_pressure', 'family_history', 'TestB', 'GeneB', 'GeneC', 'gender', 'blood_test']\n",
            "Dropped features:  ['MeasureA', 'GeneA']\n"
          ],
          "name": "stdout"
        }
      ]
    },
    {
      "cell_type": "markdown",
      "metadata": {
        "id": "iU-ubDccweN7"
      },
      "source": [
        "\r\n",
        "\r\n",
        "---\r\n",
        "Using LASSO and Reverse Feature Elimination, it is observed that MeasureA and GeneA are not important in the prediction of 'treatment'. We can drop these features from the dataset\r\n",
        "\r\n",
        "---\r\n",
        "\r\n",
        "\r\n",
        "\r\n"
      ]
    },
    {
      "cell_type": "code",
      "metadata": {
        "id": "bPIALa3AkllM"
      },
      "source": [
        "# Stratified sampling of data into training and test set to distribute data that represents the population\r\n",
        "\r\n",
        "from sklearn.model_selection import StratifiedShuffleSplit\r\n",
        "\r\n",
        "split = StratifiedShuffleSplit(n_splits=1, test_size=0.2, random_state=1)\r\n",
        "\r\n",
        "for train_index, test_index in split.split(df,df['treatment']):\r\n",
        "    train_set = df.loc[train_index]\r\n",
        "    test_set = df.loc[test_index]\r\n",
        "\r\n",
        "train_set.drop(['MeasureA','GeneA'],axis=1,inplace=True)\r\n",
        "test_set.drop(['MeasureA','GeneA'],axis=1,inplace=True)"
      ],
      "execution_count": 743,
      "outputs": []
    },
    {
      "cell_type": "code",
      "metadata": {
        "colab": {
          "base_uri": "https://localhost:8080/"
        },
        "id": "weE_F58elMOZ",
        "outputId": "ac456734-3232-4be7-b3a2-124a53585c17"
      },
      "source": [
        "train_set.shape, test_set.shape"
      ],
      "execution_count": 744,
      "outputs": [
        {
          "output_type": "execute_result",
          "data": {
            "text/plain": [
              "((5654, 9), (1414, 9))"
            ]
          },
          "metadata": {
            "tags": []
          },
          "execution_count": 744
        }
      ]
    },
    {
      "cell_type": "code",
      "metadata": {
        "colab": {
          "base_uri": "https://localhost:8080/",
          "height": 402
        },
        "id": "R7CfrmMllOxZ",
        "outputId": "bb09824b-63b9-4817-e0ff-6ee1ffb046e3"
      },
      "source": [
        "train_set.reset_index(drop=True)\r\n",
        "test_set.reset_index(drop=True)"
      ],
      "execution_count": 745,
      "outputs": [
        {
          "output_type": "execute_result",
          "data": {
            "text/html": [
              "<div>\n",
              "<style scoped>\n",
              "    .dataframe tbody tr th:only-of-type {\n",
              "        vertical-align: middle;\n",
              "    }\n",
              "\n",
              "    .dataframe tbody tr th {\n",
              "        vertical-align: top;\n",
              "    }\n",
              "\n",
              "    .dataframe thead th {\n",
              "        text-align: right;\n",
              "    }\n",
              "</style>\n",
              "<table border=\"1\" class=\"dataframe\">\n",
              "  <thead>\n",
              "    <tr style=\"text-align: right;\">\n",
              "      <th></th>\n",
              "      <th>treatment</th>\n",
              "      <th>age</th>\n",
              "      <th>blood_pressure</th>\n",
              "      <th>gender</th>\n",
              "      <th>blood_test</th>\n",
              "      <th>family_history</th>\n",
              "      <th>TestB</th>\n",
              "      <th>GeneB</th>\n",
              "      <th>GeneC</th>\n",
              "    </tr>\n",
              "  </thead>\n",
              "  <tbody>\n",
              "    <tr>\n",
              "      <th>0</th>\n",
              "      <td>0</td>\n",
              "      <td>76</td>\n",
              "      <td>84.974193</td>\n",
              "      <td>1</td>\n",
              "      <td>0</td>\n",
              "      <td>0</td>\n",
              "      <td>0.748596</td>\n",
              "      <td>0</td>\n",
              "      <td>1</td>\n",
              "    </tr>\n",
              "    <tr>\n",
              "      <th>1</th>\n",
              "      <td>1</td>\n",
              "      <td>54</td>\n",
              "      <td>87.881147</td>\n",
              "      <td>0</td>\n",
              "      <td>0</td>\n",
              "      <td>0</td>\n",
              "      <td>0.349171</td>\n",
              "      <td>1</td>\n",
              "      <td>1</td>\n",
              "    </tr>\n",
              "    <tr>\n",
              "      <th>2</th>\n",
              "      <td>0</td>\n",
              "      <td>59</td>\n",
              "      <td>81.124735</td>\n",
              "      <td>1</td>\n",
              "      <td>0</td>\n",
              "      <td>0</td>\n",
              "      <td>0.077742</td>\n",
              "      <td>1</td>\n",
              "      <td>1</td>\n",
              "    </tr>\n",
              "    <tr>\n",
              "      <th>3</th>\n",
              "      <td>0</td>\n",
              "      <td>57</td>\n",
              "      <td>83.397078</td>\n",
              "      <td>1</td>\n",
              "      <td>0</td>\n",
              "      <td>0</td>\n",
              "      <td>0.249529</td>\n",
              "      <td>0</td>\n",
              "      <td>1</td>\n",
              "    </tr>\n",
              "    <tr>\n",
              "      <th>4</th>\n",
              "      <td>0</td>\n",
              "      <td>64</td>\n",
              "      <td>80.240234</td>\n",
              "      <td>1</td>\n",
              "      <td>0</td>\n",
              "      <td>0</td>\n",
              "      <td>0.110121</td>\n",
              "      <td>0</td>\n",
              "      <td>0</td>\n",
              "    </tr>\n",
              "    <tr>\n",
              "      <th>...</th>\n",
              "      <td>...</td>\n",
              "      <td>...</td>\n",
              "      <td>...</td>\n",
              "      <td>...</td>\n",
              "      <td>...</td>\n",
              "      <td>...</td>\n",
              "      <td>...</td>\n",
              "      <td>...</td>\n",
              "      <td>...</td>\n",
              "    </tr>\n",
              "    <tr>\n",
              "      <th>1409</th>\n",
              "      <td>0</td>\n",
              "      <td>60</td>\n",
              "      <td>81.576134</td>\n",
              "      <td>1</td>\n",
              "      <td>0</td>\n",
              "      <td>0</td>\n",
              "      <td>0.339703</td>\n",
              "      <td>1</td>\n",
              "      <td>0</td>\n",
              "    </tr>\n",
              "    <tr>\n",
              "      <th>1410</th>\n",
              "      <td>1</td>\n",
              "      <td>48</td>\n",
              "      <td>84.582751</td>\n",
              "      <td>0</td>\n",
              "      <td>0</td>\n",
              "      <td>0</td>\n",
              "      <td>0.387080</td>\n",
              "      <td>1</td>\n",
              "      <td>1</td>\n",
              "    </tr>\n",
              "    <tr>\n",
              "      <th>1411</th>\n",
              "      <td>1</td>\n",
              "      <td>71</td>\n",
              "      <td>92.429924</td>\n",
              "      <td>0</td>\n",
              "      <td>0</td>\n",
              "      <td>0</td>\n",
              "      <td>0.389095</td>\n",
              "      <td>1</td>\n",
              "      <td>0</td>\n",
              "    </tr>\n",
              "    <tr>\n",
              "      <th>1412</th>\n",
              "      <td>0</td>\n",
              "      <td>61</td>\n",
              "      <td>82.656739</td>\n",
              "      <td>1</td>\n",
              "      <td>0</td>\n",
              "      <td>0</td>\n",
              "      <td>0.111002</td>\n",
              "      <td>0</td>\n",
              "      <td>1</td>\n",
              "    </tr>\n",
              "    <tr>\n",
              "      <th>1413</th>\n",
              "      <td>1</td>\n",
              "      <td>50</td>\n",
              "      <td>83.850007</td>\n",
              "      <td>0</td>\n",
              "      <td>0</td>\n",
              "      <td>0</td>\n",
              "      <td>0.419360</td>\n",
              "      <td>1</td>\n",
              "      <td>1</td>\n",
              "    </tr>\n",
              "  </tbody>\n",
              "</table>\n",
              "<p>1414 rows × 9 columns</p>\n",
              "</div>"
            ],
            "text/plain": [
              "      treatment  age  blood_pressure  ...     TestB  GeneB  GeneC\n",
              "0             0   76       84.974193  ...  0.748596      0      1\n",
              "1             1   54       87.881147  ...  0.349171      1      1\n",
              "2             0   59       81.124735  ...  0.077742      1      1\n",
              "3             0   57       83.397078  ...  0.249529      0      1\n",
              "4             0   64       80.240234  ...  0.110121      0      0\n",
              "...         ...  ...             ...  ...       ...    ...    ...\n",
              "1409          0   60       81.576134  ...  0.339703      1      0\n",
              "1410          1   48       84.582751  ...  0.387080      1      1\n",
              "1411          1   71       92.429924  ...  0.389095      1      0\n",
              "1412          0   61       82.656739  ...  0.111002      0      1\n",
              "1413          1   50       83.850007  ...  0.419360      1      1\n",
              "\n",
              "[1414 rows x 9 columns]"
            ]
          },
          "metadata": {
            "tags": []
          },
          "execution_count": 745
        }
      ]
    },
    {
      "cell_type": "code",
      "metadata": {
        "colab": {
          "base_uri": "https://localhost:8080/"
        },
        "id": "V1tFXtwihQG9",
        "outputId": "b0a4dcc1-b88a-4898-d3ac-93a01e507be2"
      },
      "source": [
        "# Cross validation\r\n",
        "# Fitting logistic regression on the validation set\r\n",
        "\r\n",
        "from sklearn.model_selection import train_test_split\r\n",
        "from sklearn.linear_model import LogisticRegression\r\n",
        "from sklearn.metrics import confusion_matrix, precision_recall_curve, roc_curve, auc, accuracy_score\r\n",
        "\r\n",
        "X = train_set.drop('treatment', axis=1)\r\n",
        "Y = train_set['treatment']\r\n",
        "x_train, x_val, y_train, y_val = train_test_split(X, Y, test_size=0.2, random_state=2)\r\n",
        "\r\n",
        "reg = LogisticRegression(penalty='none',max_iter=2700)\r\n",
        "reg.fit(x_train, y_train)\r\n",
        "\r\n",
        "\r\n",
        "y_pred = reg.predict(x_val)\r\n",
        "\r\n",
        "score = reg.score(x_val, y_val)\r\n",
        "y_pred_proba = reg.predict_proba(x_val)[:, 1]\r\n",
        "[fpr, tpr, thr] = roc_curve(y_val, y_pred_proba)\r\n",
        "roc_auc = auc(fpr, tpr)\r\n",
        "\r\n",
        "print(\"Accuracy = \", round(accuracy_score(y_val, y_pred)*100, 2),\"%\")\r\n",
        "print(\"AUC = \", round(auc(fpr, tpr), 4))\r\n",
        "\r\n",
        "print(\"Coefficients: \\n\",reg.coef_)\r\n",
        "\r\n",
        "print('\\nConfusion Matrix:')\r\n",
        "print(confusion_matrix(y_val,y_pred))\r\n"
      ],
      "execution_count": 746,
      "outputs": [
        {
          "output_type": "stream",
          "text": [
            "Accuracy =  76.39 %\n",
            "AUC =  0.8468\n",
            "Coefficients: \n",
            " [[-0.0547512   0.08216749 -1.84939731 -0.63380021 19.17387959  5.27183591\n",
            "   0.32692533  0.19201761]]\n",
            "\n",
            "Confusion Matrix:\n",
            "[[651  90]\n",
            " [177 213]]\n"
          ],
          "name": "stdout"
        }
      ]
    },
    {
      "cell_type": "code",
      "metadata": {
        "colab": {
          "base_uri": "https://localhost:8080/"
        },
        "id": "YzZAvjHQ6O5d",
        "outputId": "ba10d64a-b59e-4875-86a6-ed4fc74d88c6"
      },
      "source": [
        "# Testing model on test set\r\n",
        "\r\n",
        "from sklearn.model_selection import train_test_split\r\n",
        "from sklearn.linear_model import LogisticRegression\r\n",
        "from sklearn.metrics import confusion_matrix, precision_recall_curve, roc_curve, auc, accuracy_score\r\n",
        "\r\n",
        "x_train = train_set.drop('treatment', axis=1)\r\n",
        "y_train = train_set['treatment']\r\n",
        "\r\n",
        "x_test = test_set.drop('treatment', axis=1)\r\n",
        "y_test = test_set['treatment']\r\n",
        "\r\n",
        "reg = LogisticRegression(penalty='none',max_iter=2700)\r\n",
        "reg.fit(x_train, y_train)\r\n",
        "\r\n",
        "y_pred = reg.predict(x_test)\r\n",
        "\r\n",
        "score = reg.score(x_test, y_test)\r\n",
        "y_pred_proba = reg.predict_proba(x_test)[:, 1]\r\n",
        "[fpr, tpr, thr] = roc_curve(y_test, y_pred_proba)\r\n",
        "roc_auc = auc(fpr, tpr)\r\n",
        "\r\n",
        "print(\"Accuracy = \", round(accuracy_score(y_test, y_pred)*100, 2),\"%\")\r\n",
        "print(\"AUC = \", round(auc(fpr, tpr), 4))\r\n",
        "\r\n",
        "print(\"Coefficients: \\n\",reg.coef_)\r\n",
        "\r\n",
        "print('\\nConfusion Matrix:')\r\n",
        "print(confusion_matrix(y_test,y_pred))\r\n"
      ],
      "execution_count": 747,
      "outputs": [
        {
          "output_type": "stream",
          "text": [
            "Accuracy =  75.74 %\n",
            "AUC =  0.8279\n",
            "Coefficients: \n",
            " [[-0.05741881  0.07876221 -1.88826556 -0.61369115 19.31631668  5.38992756\n",
            "   0.26119448  0.21528363]]\n",
            "\n",
            "Confusion Matrix:\n",
            "[[821  94]\n",
            " [249 250]]\n"
          ],
          "name": "stdout"
        }
      ]
    },
    {
      "cell_type": "code",
      "metadata": {
        "colab": {
          "base_uri": "https://localhost:8080/",
          "height": 301
        },
        "id": "3M53_56XfzSy",
        "outputId": "e831e254-16b8-4776-e1c5-6ca35483391e"
      },
      "source": [
        "# Plotting the ROC AUC curve\r\n",
        "\r\n",
        "plt.figure()\r\n",
        "\r\n",
        "plt.title('ROC AUC')\r\n",
        "\r\n",
        "plt.plot(fpr, tpr, 'g', label = 'AUC = %0.2f' % roc_auc)\r\n",
        "\r\n",
        "plt.legend(loc = 'lower right')\r\n",
        "plt.plot([0, 1], [0, 1],'b--')\r\n",
        "\r\n",
        "plt.xlim([0, 1])\r\n",
        "plt.ylim([0, 1])\r\n",
        "\r\n",
        "plt.ylabel('True Positive Rate')\r\n",
        "plt.xlabel('False Positive Rate')\r\n",
        "\r\n",
        "plt.fill_between(fpr,tpr, color='#DCDCDC')\r\n",
        "\r\n",
        "plt.show()"
      ],
      "execution_count": 748,
      "outputs": [
        {
          "output_type": "display_data",
          "data": {
            "image/png": "[encoded data removed]",
            "text/plain": [
              "<Figure size 432x288 with 1 Axes>"
            ]
          },
          "metadata": {
            "tags": []
          }
        }
      ]
    },
    {
      "cell_type": "code",
      "metadata": {
        "colab": {
          "base_uri": "https://localhost:8080/",
          "height": 284
        },
        "id": "T28_UTqpev2o",
        "outputId": "df2fa8b9-fe10-4a0f-e16d-c6d8ccb1fe20"
      },
      "source": [
        "coeff = pd.DataFrame(x_train.columns)\r\n",
        "\r\n",
        "coeff['coefficients'] = pd.Series(reg.coef_[0])\r\n",
        "coeff['abs_coeff'] = coeff['coefficients'].abs()\r\n",
        "coeff.sort_values('abs_coeff', ascending=False, ignore_index=True)"
      ],
      "execution_count": 749,
      "outputs": [
        {
          "output_type": "execute_result",
          "data": {
            "text/html": [
              "<div>\n",
              "<style scoped>\n",
              "    .dataframe tbody tr th:only-of-type {\n",
              "        vertical-align: middle;\n",
              "    }\n",
              "\n",
              "    .dataframe tbody tr th {\n",
              "        vertical-align: top;\n",
              "    }\n",
              "\n",
              "    .dataframe thead th {\n",
              "        text-align: right;\n",
              "    }\n",
              "</style>\n",
              "<table border=\"1\" class=\"dataframe\">\n",
              "  <thead>\n",
              "    <tr style=\"text-align: right;\">\n",
              "      <th></th>\n",
              "      <th>0</th>\n",
              "      <th>coefficients</th>\n",
              "      <th>abs_coeff</th>\n",
              "    </tr>\n",
              "  </thead>\n",
              "  <tbody>\n",
              "    <tr>\n",
              "      <th>0</th>\n",
              "      <td>family_history</td>\n",
              "      <td>19.316317</td>\n",
              "      <td>19.316317</td>\n",
              "    </tr>\n",
              "    <tr>\n",
              "      <th>1</th>\n",
              "      <td>TestB</td>\n",
              "      <td>5.389928</td>\n",
              "      <td>5.389928</td>\n",
              "    </tr>\n",
              "    <tr>\n",
              "      <th>2</th>\n",
              "      <td>gender</td>\n",
              "      <td>-1.888266</td>\n",
              "      <td>1.888266</td>\n",
              "    </tr>\n",
              "    <tr>\n",
              "      <th>3</th>\n",
              "      <td>blood_test</td>\n",
              "      <td>-0.613691</td>\n",
              "      <td>0.613691</td>\n",
              "    </tr>\n",
              "    <tr>\n",
              "      <th>4</th>\n",
              "      <td>GeneB</td>\n",
              "      <td>0.261194</td>\n",
              "      <td>0.261194</td>\n",
              "    </tr>\n",
              "    <tr>\n",
              "      <th>5</th>\n",
              "      <td>GeneC</td>\n",
              "      <td>0.215284</td>\n",
              "      <td>0.215284</td>\n",
              "    </tr>\n",
              "    <tr>\n",
              "      <th>6</th>\n",
              "      <td>blood_pressure</td>\n",
              "      <td>0.078762</td>\n",
              "      <td>0.078762</td>\n",
              "    </tr>\n",
              "    <tr>\n",
              "      <th>7</th>\n",
              "      <td>age</td>\n",
              "      <td>-0.057419</td>\n",
              "      <td>0.057419</td>\n",
              "    </tr>\n",
              "  </tbody>\n",
              "</table>\n",
              "</div>"
            ],
            "text/plain": [
              "                0  coefficients  abs_coeff\n",
              "0  family_history     19.316317  19.316317\n",
              "1           TestB      5.389928   5.389928\n",
              "2          gender     -1.888266   1.888266\n",
              "3      blood_test     -0.613691   0.613691\n",
              "4           GeneB      0.261194   0.261194\n",
              "5           GeneC      0.215284   0.215284\n",
              "6  blood_pressure      0.078762   0.078762\n",
              "7             age     -0.057419   0.057419"
            ]
          },
          "metadata": {
            "tags": []
          },
          "execution_count": 749
        }
      ]
    }
  ]
}